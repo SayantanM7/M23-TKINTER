{
 "cells": [
  {
   "cell_type": "code",
   "execution_count": 1,
   "metadata": {},
   "outputs": [],
   "source": [
    "from tkinter import *\n",
    "import random\n",
    "import time\n",
    "\n",
    "# Let's setup the root window\n",
    "Top = Tk()\n",
    "Top.title('Restaurant Management System')\n",
    "Top.geometry(\"700x400\")\n",
    "\n",
    "# Let's setup the intro of this application\n",
    "#Top = Frame(root,bg=\"#000c19\",height=50,relief=RAISED)\n",
    "#Top.pack(side=TOP)\n",
    "\n",
    "#------------------TIME--------------\n",
    "localtime=time.asctime(time.localtime(time.time()))\n",
    "\n",
    "#-----------------INFO TOP------------\n",
    "lblinfo = Label(Top, font=( 'aria' ,15, 'bold' ),text=\"Codingal Delicacies Billing System\",fg=\"#003166\",bd=10)\n",
    "#lblinfo.grid(row=0,column=0)\n",
    "lblinfo.place(x=150, y=0)\n",
    "\n",
    "lbl_info = Label(Top, font=( 'aria' ,10, ),text=localtime,fg=\"#003166\")\n",
    "#lbl_info.grid(row=1,column=0)\n",
    "lbl_info.place(x=250, y=40)\n",
    "\n",
    "lbl_order = Label(Top, text=\"Order Number\")\n",
    "val_order = Entry(Top)\n",
    "def insert():\n",
    "\tval_order.delete(0,END)\n",
    "\tval_order.insert(END, str(random.randint(0, 1000)))\n",
    "btn_order = Button(text=\"New Order\", bg=\"#8cd3ff\", width=6, command=insert)\n",
    "btn_order.place(x=100, y=65)\n",
    "lbl_order.place(x=200, y=70)\n",
    "val_order.place(x=310, y=70)\n",
    "\n",
    "#-----------------Quanitity of Every Item---------\n",
    "f1 = Frame(Top,width = 350,height=200,relief=SUNKEN)\n",
    "f1.place(x=0, y=200)\n",
    "\n",
    "\n",
    "\n",
    "#------------------Final Detailed Bill------------\n",
    "f2 = Frame(Top ,width = 350,height=200,relief=SUNKEN)\n",
    "f2.pack(side=RIGHT)"
   ]
  }
 ],
 "metadata": {
  "kernelspec": {
   "display_name": "base",
   "language": "python",
   "name": "python3"
  },
  "language_info": {
   "codemirror_mode": {
    "name": "ipython",
    "version": 3
   },
   "file_extension": ".py",
   "mimetype": "text/x-python",
   "name": "python",
   "nbconvert_exporter": "python",
   "pygments_lexer": "ipython3",
   "version": "3.12.4"
  }
 },
 "nbformat": 4,
 "nbformat_minor": 2
}
