{
 "cells": [
  {
   "cell_type": "code",
   "execution_count": 2,
   "metadata": {},
   "outputs": [
    {
     "data": {
      "text/plain": [
       "''"
      ]
     },
     "execution_count": 2,
     "metadata": {},
     "output_type": "execute_result"
    }
   ],
   "source": [
    "# Import necessary libraries\n",
    "from tkinter import *\n",
    "\n",
    "# Create Window\n",
    "window = Tk()\n",
    "\n",
    "# Set the window Title and Geometry\n",
    "window.title('Demo Window')\n",
    "window.geometry('400x300')\n"
   ]
  },
  {
   "cell_type": "code",
   "execution_count": 4,
   "metadata": {},
   "outputs": [],
   "source": [
    "# Import necessary libraries\n",
    "from tkinter import *\n",
    "from datetime import date\n",
    "\n",
    "# Create Window\n",
    "root = Tk()\n",
    "root.title('Getting Started with Widgets')\n",
    "root.geometry('400x300')\n",
    "\n",
    "# Add widgets\n",
    "# Add Label \n",
    "lbl = Label(text=\"Hey There!\", fg=\"white\", bg=\"#072F5F\", height=1, width=300)\n",
    "\n",
    "# Add Label for getting name as input from user\n",
    "# Use Entry Widget to create a text box for user to enter details\n",
    "name_lbl = Label(text=\"Full Name\", bg=\"#3895D3\")\n",
    "name_entry = Entry()\n",
    "\n",
    "# Function to display a Message\n",
    "def display():\n",
    "\n",
    "\t# Read input given by user\n",
    "\tname = name_entry.get()\n",
    "\n",
    "\t# Declaring a global variable \n",
    "\t# to make it accessible anywhere in the program\n",
    "\tglobal message\n",
    "\tmessage = \"Welcome to the Application! \\nToday's date is: \"\n",
    "\tgreet = \"Hello \"+name+\"\\n\"\n",
    "\n",
    "\t# Display details in a text box\n",
    "\t# Specify where to add the details inside the text box\n",
    "\ttext_box.insert(END, greet)\n",
    "\ttext_box.insert(END, message)\n",
    "\ttext_box.insert(END, date.today())\n",
    "\n",
    "# Add a Text Widget to display information/messages\n",
    "text_box = Text(height=3)\n",
    "\n",
    "# Add button and give value of command as name of the function\n",
    "# Press button, display function will be called automatically\n",
    "btn = Button(text=\"Begin\", command=display, height=1, bg=\"#1261A0\", fg='white')\n",
    "\n",
    "\n",
    "# Organize all the widgets in the window\n",
    "lbl.pack()\n",
    "name_lbl.pack()\n",
    "name_entry.pack()\n",
    "btn.pack()\n",
    "text_box.pack()\n"
   ]
  },
  {
   "cell_type": "code",
   "execution_count": 8,
   "metadata": {},
   "outputs": [],
   "source": [
    "# Import necessary libraries\n",
    "from tkinter import *\n",
    "\n",
    "# Create Window\n",
    "root = Tk()\n",
    "root.title('Getting Started with Widgets')\n",
    "root.geometry('400x300')\n",
    "\n",
    "# Add widgets\n",
    "# Add Label \n",
    "lbl1 = Label(text = \"Full Name\", bg=\"#3895D3\", fg='white')\n",
    "lbl2 = Label(text = \"Email Id\", bg=\"#3895D3\", fg='white')\n",
    "lbl3 = Label(text = \"Enter Password\", bg=\"#3895D3\", fg='white')\n",
    "\n",
    "# Use Entry Widget to create a text box for user to enter details\n",
    "name_entry = Entry()\n",
    "email_entry = Entry()\n",
    "pass_entry = Entry(show=\"*\")\n",
    "\n",
    "# Function to display message\n",
    "def display():\n",
    "\tname = name_entry.get()\n",
    "\tgreet = \"Hey \"+name\n",
    "\tmessage =  \"\\nCongratulations for your new account!\"\n",
    "\ttextbox.insert(END, greet)\n",
    "\ttextbox.insert(END, message)\n",
    "\n",
    "# Textbox to display message\n",
    "textbox = Text(bg=\"#BEBEBE\", fg=\"black\")\n",
    "\n",
    "# Add Button, when pressed, message will be displayed\n",
    "btn = Button(text = \"Create Account\", command=display)\n",
    "\n",
    "# Arrange all widgets\n",
    "lbl1.pack()\n",
    "name_entry.pack()\n",
    "lbl2.pack()\n",
    "email_entry.pack()\n",
    "lbl3.pack()\n",
    "pass_entry.pack()\n",
    "btn.pack()\n",
    "textbox.pack()"
   ]
  },
  {
   "cell_type": "code",
   "execution_count": null,
   "metadata": {},
   "outputs": [],
   "source": []
  }
 ],
 "metadata": {
  "kernelspec": {
   "display_name": "base",
   "language": "python",
   "name": "python3"
  },
  "language_info": {
   "codemirror_mode": {
    "name": "ipython",
    "version": 3
   },
   "file_extension": ".py",
   "mimetype": "text/x-python",
   "name": "python",
   "nbconvert_exporter": "python",
   "pygments_lexer": "ipython3",
   "version": "3.12.4"
  }
 },
 "nbformat": 4,
 "nbformat_minor": 2
}
