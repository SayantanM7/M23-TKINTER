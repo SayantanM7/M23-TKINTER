{
 "cells": [
  {
   "cell_type": "code",
   "execution_count": 1,
   "metadata": {},
   "outputs": [],
   "source": [
    "# Import necessary packages \n",
    "from tkinter import *\n",
    "from tkinter.filedialog import askopenfilename, asksaveasfilename\n",
    "\n",
    "# Setup Root Window\n",
    "window = Tk()\n",
    "window.title(\"Codingal's Text Editor\")\n",
    "window.geometry(\"600x500\")\n",
    "window.rowconfigure(0, minsize=800, weight=1)\n",
    "window.columnconfigure(1, minsize=800, weight=1)\n",
    "\n",
    "# Function to Open a file\n",
    "def open_file():\n",
    "\t\"\"\"Open a file for editing.\"\"\"\n",
    "\tfilepath = askopenfilename(\n",
    "\t\tfiletypes=[(\"Text Files\", \"*.txt\"), (\"All Files\", \"*.*\")]\n",
    "\t)\n",
    "\tif not filepath:\n",
    "\t\treturn\n",
    "\ttxt_edit.delete(1.0, END)\n",
    "\t# if a file is opened then display the contents of the file\n",
    "\twith open(filepath, \"r\") as input_file:\n",
    "\t\t# Read contents of the input file\n",
    "\t\ttext = input_file.read()\n",
    "\t\t# Insert contents of the file in the editor box\n",
    "\t\ttxt_edit.insert(END, text)\n",
    "\t\tinput_file.close()\n",
    "\twindow.title(f\"Codingal's Text Editor - {filepath}\")\n",
    "\n",
    "# Function to Save a file\n",
    "def save_file():\n",
    "    # Save the current file as a new file\n",
    "    filepath = asksaveasfilename(\n",
    "        defaultextension=\"txt\",\n",
    "        filetypes=[(\"Text Files\", \"*.txt\"), (\"All Files\", \"*.*\")],\n",
    "    )\n",
    "    if not filepath:\n",
    "        return\n",
    "    with open(filepath, \"w\") as output_file:\n",
    "\t\t# Read the edited content and update in the output file\n",
    "        text = txt_edit.get(1.0, END)\n",
    "        output_file.write(text)\n",
    "    window.title(f\"Codingal's Text Editor - {filepath}\")\n",
    "\n",
    "# Add widgets in the application\n",
    "txt_edit = Text(window)\n",
    "fr_buttons = Frame(window, relief=RAISED, bd=2)\n",
    "btn_open = Button(fr_buttons, text=\"Open\", command=open_file)\n",
    "btn_save = Button(fr_buttons, text=\"Save As...\", command=save_file)\n",
    "\n",
    "btn_open.grid(row=0, column=0, sticky=\"ew\", padx=5, pady=5)\n",
    "btn_save.grid(row=1, column=0, sticky=\"ew\", padx=5)\n",
    "\n",
    "fr_buttons.grid(row=0, column=0, sticky=\"ns\")\n",
    "txt_edit.grid(row=0, column=1, sticky=\"nsew\")\n",
    "\n",
    "window.mainloop()\n",
    "\n"
   ]
  },
  {
   "cell_type": "code",
   "execution_count": null,
   "metadata": {},
   "outputs": [],
   "source": []
  }
 ],
 "metadata": {
  "kernelspec": {
   "display_name": "base",
   "language": "python",
   "name": "python3"
  },
  "language_info": {
   "codemirror_mode": {
    "name": "ipython",
    "version": 3
   },
   "file_extension": ".py",
   "mimetype": "text/x-python",
   "name": "python",
   "nbconvert_exporter": "python",
   "pygments_lexer": "ipython3",
   "version": "3.12.4"
  }
 },
 "nbformat": 4,
 "nbformat_minor": 2
}
