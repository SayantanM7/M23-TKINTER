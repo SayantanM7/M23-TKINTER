{
 "cells": [
  {
   "cell_type": "code",
   "execution_count": 1,
   "metadata": {},
   "outputs": [
    {
     "name": "stdout",
     "output_type": "stream",
     "text": [
      "\n",
      "The button was clicked!\n"
     ]
    }
   ],
   "source": [
    "# Import necessary libraries\n",
    "from tkinter import *\n",
    "\n",
    "# Create window\n",
    "window = Tk()\n",
    "window.title(\"Event Handler\")\n",
    "window.geometry(\"100x100\")\n",
    "\n",
    "# Event Handler for Keypress\n",
    "def handle_keypress(event):\n",
    "    \"\"\"Print the character associated to the key pressed\"\"\"\n",
    "    print(event.char)\n",
    "\n",
    "# Bind keypress event to handle_keypress()\n",
    "window.bind(\"<Key>\", handle_keypress)\n",
    "\n",
    "# Event handler for button click\n",
    "def handle_click(event):\n",
    "    print(\"\\nThe button was clicked!\")\n",
    "\n",
    "button = Button(text=\"Click me!\")\n",
    "button.pack()\n",
    "\n",
    "# Bind click event to handle_click()\n",
    "button.bind(\"<Button-1>\", handle_click)\n",
    "\n",
    "window.mainloop()"
   ]
  },
  {
   "cell_type": "code",
   "execution_count": 2,
   "metadata": {},
   "outputs": [],
   "source": [
    "# Import necessary libraries\n",
    "from tkinter import *\n",
    "from tkinter import messagebox\n",
    "\n",
    "# Setup Tkinter Window\n",
    "root = Tk()\n",
    "root.geometry(\"200x200\")\n",
    "\n",
    "# Function for Displaying Warning Message\n",
    "# This will be called once the button is clicked\n",
    "# messagebox.showwarning(\"Window Name\", \"Text to be displayed\")\n",
    "def msg():\n",
    "\tmessagebox.showwarning(\"Alert\", \"Stop! Virus Found.\")\n",
    "\n",
    "# Adding Button Widget to Window\n",
    "button = Button(root, text=\"Scan for Virus\", command=msg)\n",
    "button.place(x=40, y=80)\n",
    "\n",
    "# Entering main event loop\n",
    "root.mainloop()"
   ]
  }
 ],
 "metadata": {
  "kernelspec": {
   "display_name": "base",
   "language": "python",
   "name": "python3"
  },
  "language_info": {
   "codemirror_mode": {
    "name": "ipython",
    "version": 3
   },
   "file_extension": ".py",
   "mimetype": "text/x-python",
   "name": "python",
   "nbconvert_exporter": "python",
   "pygments_lexer": "ipython3",
   "version": "3.12.4"
  }
 },
 "nbformat": 4,
 "nbformat_minor": 2
}
